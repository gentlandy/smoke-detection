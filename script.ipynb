{
 "cells": [
  {
   "cell_type": "code",
   "execution_count": 1,
   "id": "30be6faa",
   "metadata": {},
   "outputs": [],
   "source": [
    "import os\n",
    "import shutil\n",
    "\n",
    "# Mapping class name to ID\n",
    "class_map = {'smoking': 0, 'notsmoking': 1}\n",
    "\n",
    "# Source folders\n",
    "source_folders = {\n",
    "    'train': 'dataset/Training/Training',\n",
    "    'val': 'dataset/Validation/Validation',\n",
    "    'test': 'dataset/Testing/Testing'\n",
    "}\n",
    "\n",
    "# Target YOLO format folders\n",
    "for split in ['train', 'val', 'test']:\n",
    "    os.makedirs(f'dataset_yolo/images/{split}', exist_ok=True)\n",
    "    os.makedirs(f'dataset_yolo/labels/{split}', exist_ok=True)\n",
    "\n",
    "# Convert\n",
    "for split, folder in source_folders.items():\n",
    "    for filename in os.listdir(folder):\n",
    "        if filename.endswith('.jpg'):\n",
    "            label_name = filename.lower().split('_')[0]  # \"smoking\" or \"notsmoking\"\n",
    "            class_id = class_map[label_name]\n",
    "\n",
    "            # Copy image\n",
    "            src_img = os.path.join(folder, filename)\n",
    "            dst_img = f'dataset_yolo/images/{split}/{filename}'\n",
    "            shutil.copyfile(src_img, dst_img)\n",
    "\n",
    "            # Create label\n",
    "            label_filename = filename.replace('.jpg', '.txt')\n",
    "            dst_label = f'dataset_yolo/labels/{split}/{label_filename}'\n",
    "            with open(dst_label, 'w') as f:\n",
    "                f.write(f\"{class_id} 0.5 0.5 1.0 1.0\\n\")\n"
   ]
  }
 ],
 "metadata": {
  "kernelspec": {
   "display_name": "yolov8-env",
   "language": "python",
   "name": "python3"
  },
  "language_info": {
   "codemirror_mode": {
    "name": "ipython",
    "version": 3
   },
   "file_extension": ".py",
   "mimetype": "text/x-python",
   "name": "python",
   "nbconvert_exporter": "python",
   "pygments_lexer": "ipython3",
   "version": "3.10.9"
  }
 },
 "nbformat": 4,
 "nbformat_minor": 5
}
